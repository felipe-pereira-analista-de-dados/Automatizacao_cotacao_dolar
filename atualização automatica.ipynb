{
 "cells": [
  {
   "cell_type": "markdown",
   "id": "362cf33b-f7c9-449e-b7b1-bd2feddfcfa1",
   "metadata": {},
   "source": [
    "## Atualizando de forma automatica a cotação do Dolar\n",
    "### Utilizei o FOR para realizar a atualização e a biblioteca Time para colocar um limite diário"
   ]
  },
  {
   "cell_type": "code",
   "execution_count": 3,
   "id": "f641c051-eb23-4c33-b80c-8d7c311589b9",
   "metadata": {},
   "outputs": [
    {
     "name": "stdout",
     "output_type": "stream",
     "text": [
      "Valor do dolar atual: 4.8628\n",
      "Valor do dolar atual: 4.8628\n",
      "Valor do dolar atual: 4.8628\n",
      "Valor do dolar atual: 4.8628\n",
      "Valor do dolar atual: 4.8625\n",
      "Valor do dolar atual: 4.8628\n",
      "Valor do dolar atual: 4.8628\n",
      "Valor do dolar atual: 4.8628\n",
      "Valor do dolar atual: 4.8628\n",
      "Valor do dolar atual: 4.8628\n"
     ]
    }
   ],
   "source": [
    "import requests\n",
    "import pandas as pd\n",
    "from datetime import datetime\n",
    "import time\n",
    "\n",
    "for i in range(10):\n",
    "    requisicao = requests.get(\"http://economia.awesomeapi.com.br/json/last/USD-BRL,EUR-BRL,BTC-BRL\")\n",
    "\n",
    "    requisicao_dic = requisicao.json()\n",
    "    cotacao_dolar = requisicao_dic[\"USDBRL\"][\"bid\"]\n",
    "\n",
    "    print(\"Valor do dolar atual: \" + cotacao_dolar)\n",
    "\n",
    "    time.sleep(3)"
   ]
  },
  {
   "cell_type": "code",
   "execution_count": null,
   "id": "38d55a28-8a7a-4a1b-b779-d9e1d8cbf680",
   "metadata": {},
   "outputs": [],
   "source": []
  },
  {
   "cell_type": "code",
   "execution_count": null,
   "id": "439403dc-72dc-4efe-8a1b-18ec1f627d70",
   "metadata": {},
   "outputs": [],
   "source": []
  }
 ],
 "metadata": {
  "kernelspec": {
   "display_name": "Python 3 (ipykernel)",
   "language": "python",
   "name": "python3"
  },
  "language_info": {
   "codemirror_mode": {
    "name": "ipython",
    "version": 3
   },
   "file_extension": ".py",
   "mimetype": "text/x-python",
   "name": "python",
   "nbconvert_exporter": "python",
   "pygments_lexer": "ipython3",
   "version": "3.11.0"
  }
 },
 "nbformat": 4,
 "nbformat_minor": 5
}
